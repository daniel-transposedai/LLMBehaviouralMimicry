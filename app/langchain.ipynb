{
 "cells": [
  {
   "cell_type": "markdown",
   "source": [
    "We're going to use this as a test bench to test how our embedding and vector search performed"
   ],
   "metadata": {
    "collapsed": false
   },
   "id": "1ac1b6b98729e859"
  },
  {
   "cell_type": "code",
   "outputs": [
    {
     "data": {
      "text/plain": "{'dimension': 3072,\n 'index_fullness': 0.0,\n 'namespaces': {'testing': {'vector_count': 30}},\n 'total_vector_count': 30}"
     },
     "execution_count": 88,
     "metadata": {},
     "output_type": "execute_result"
    }
   ],
   "source": [
    "from pinecone import Pinecone\n",
    "from langchain_pinecone import PineconeVectorStore\n",
    "from dotenv import load_dotenv,find_dotenv\n",
    "import os\n",
    "load_dotenv(find_dotenv())\n",
    "\n",
    "pc = Pinecone(api_key=os.getenv(\"PINECONE_API_KEY\"))\n",
    "index_name = \"testembeddings\"\n",
    "index = pc.Index(index_name) \n",
    "index.describe_index_stats()  "
   ],
   "metadata": {
    "collapsed": false,
    "ExecuteTime": {
     "end_time": "2024-06-06T02:57:51.962110Z",
     "start_time": "2024-06-06T02:57:51.464101Z"
    }
   },
   "id": "c803352a988cc1ed",
   "execution_count": 88
  },
  {
   "cell_type": "markdown",
   "source": [
    "Now we'll initialize the embeddings model and vectorstore"
   ],
   "metadata": {
    "collapsed": false
   },
   "id": "b8c3e62abd9340c0"
  },
  {
   "cell_type": "code",
   "outputs": [],
   "source": [
    "from langchain_openai import OpenAIEmbeddings\n",
    "query_embedding = OpenAIEmbeddings(model=\"text-embedding-3-large\")\n",
    "text_field = \"text\"\n",
    "vectorstore = PineconeVectorStore(index, query_embedding, text_field)\n",
    "#docsearch = PineconeVectorStore.from_existing_index(index_name=index_name,embedding=query_embedding, text_key=text_field)"
   ],
   "metadata": {
    "collapsed": false,
    "ExecuteTime": {
     "end_time": "2024-06-06T02:57:21.768569Z",
     "start_time": "2024-06-06T02:57:21.752587Z"
    }
   },
   "id": "2e8a7dec08af4197",
   "execution_count": 86
  },
  {
   "cell_type": "markdown",
   "source": [
    "And move on to performing a search"
   ],
   "metadata": {
    "collapsed": false
   },
   "id": "cde98639d3f927b"
  },
  {
   "cell_type": "code",
   "outputs": [
    {
     "data": {
      "text/plain": "[Document(page_content=\"i mean, that whiter the bread, the sooner you'll be dead, i mean, that sticks.\"),\n Document(page_content=\"i mean, one great rule i got from a grandmother is, the whiter the bread, the sooner you'll be dead.\"),\n Document(page_content=\"you'll remember that next time you're picking up a loaf of bread.\"),\n Document(page_content=\"you may go more to the whole grain, hopefully, because that's ringing in your ear somewhere.\")]"
     },
     "execution_count": 90,
     "metadata": {},
     "output_type": "execute_result"
    }
   ],
   "source": [
    "query_input = \"How does the saying about bread go?\"\n",
    "#docsearch.similarity_search(query_input)\n",
    "vectorstore.similarity_search(query_input, namespace=\"testing\")"
   ],
   "metadata": {
    "collapsed": false,
    "ExecuteTime": {
     "end_time": "2024-06-06T03:00:21.067759Z",
     "start_time": "2024-06-06T03:00:20.461851Z"
    }
   },
   "id": "ca34b527097d5ded",
   "execution_count": 90
  },
  {
   "cell_type": "code",
   "outputs": [],
   "source": [],
   "metadata": {
    "collapsed": false
   },
   "id": "c2b2637d7bc4de4a"
  }
 ],
 "metadata": {
  "kernelspec": {
   "display_name": "Python 3",
   "language": "python",
   "name": "python3"
  },
  "language_info": {
   "codemirror_mode": {
    "name": "ipython",
    "version": 2
   },
   "file_extension": ".py",
   "mimetype": "text/x-python",
   "name": "python",
   "nbconvert_exporter": "python",
   "pygments_lexer": "ipython2",
   "version": "2.7.6"
  }
 },
 "nbformat": 4,
 "nbformat_minor": 5
}
